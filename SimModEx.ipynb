{
 "cells": [
  {
   "cell_type": "code",
   "execution_count": 1,
   "metadata": {},
   "outputs": [],
   "source": [
    "#import statemets\n",
    "\n",
    "from customScripts import utilities as util\n",
    "from customScripts import features as feat"
   ]
  },
  {
   "cell_type": "code",
   "execution_count": 2,
   "metadata": {},
   "outputs": [],
   "source": [
    "# parameters\n",
    "\n",
    "#number of samples / second\n",
    "sampling_rate = 48000\n",
    "\n",
    "#length of frame in samples\n",
    "frame_length = 48000\n",
    "\n",
    "#number of samples used as offset for earch consecutive frame\n",
    "hop_length = 24000\n",
    "\n",
    "#number of mel frequency bins to use\n",
    "bin_number = 40 # also try 80\n",
    "\n",
    "#set the desired number of frames / second here\n",
    "ground_thruth_conversion_const = 2\n",
    "\n",
    "#input data\n",
    "file_path = 'audio_files/Muppets-02-01-01.wav'\n",
    "grount_truth_path = 'ground_truth/Muppets-02-01-01.csv'\n",
    "file_length = 1547 #in seconds"
   ]
  },
  {
   "cell_type": "code",
   "execution_count": 17,
   "metadata": {},
   "outputs": [],
   "source": [
    "#load audio files\n",
    "\n",
    "y = util.load_audio(file_path, sampling_rate)"
   ]
  },
  {
   "cell_type": "code",
   "execution_count": 18,
   "metadata": {},
   "outputs": [],
   "source": [
    "#compute spectrogram\n",
    "\n",
    "spectrogram = feat.compute_spectrogram(y, frame_length, hop_length, bin_number)"
   ]
  },
  {
   "cell_type": "code",
   "execution_count": 38,
   "metadata": {},
   "outputs": [],
   "source": [
    "#load ground truth, pad it with zeroes and adjust to frame number\n",
    "\n",
    "gt_1 = util.load_ground_truth(grount_truth_path, '/n')\n",
    "gt_1 = util.compute_0_padded_gt(gt_1, file_length)\n",
    "gt_1 = util.adjust_gt_to_frames(gt_1, ground_thruth_conversion_const)\n",
    "gt_1.append(0) # append a zero so that lenght equals the frames list length\n",
    "\n",
    "#for i,g in enumerate(gt_1):\n",
    "#    if g == 1:\n",
    "#        print(i)"
   ]
  },
  {
   "cell_type": "code",
   "execution_count": 36,
   "metadata": {},
   "outputs": [],
   "source": []
  },
  {
   "cell_type": "code",
   "execution_count": null,
   "metadata": {},
   "outputs": [],
   "source": []
  },
  {
   "cell_type": "code",
   "execution_count": null,
   "metadata": {},
   "outputs": [],
   "source": []
  }
 ],
 "metadata": {
  "kernelspec": {
   "display_name": "Python 3",
   "language": "python",
   "name": "python3"
  },
  "language_info": {
   "codemirror_mode": {
    "name": "ipython",
    "version": 3
   },
   "file_extension": ".py",
   "mimetype": "text/x-python",
   "name": "python",
   "nbconvert_exporter": "python",
   "pygments_lexer": "ipython3",
   "version": "3.7.1"
  }
 },
 "nbformat": 4,
 "nbformat_minor": 2
}
