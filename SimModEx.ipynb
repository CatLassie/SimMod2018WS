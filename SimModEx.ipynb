{
 "cells": [
  {
   "cell_type": "code",
   "execution_count": 42,
   "metadata": {},
   "outputs": [],
   "source": [
    "#import statemets\n",
    "\n",
    "from customScripts import utilities as util\n",
    "from customScripts import features as feat"
   ]
  },
  {
   "cell_type": "code",
   "execution_count": 43,
   "metadata": {},
   "outputs": [],
   "source": [
    "# parameters\n",
    "\n",
    "file_path = 'audio_files/Muppets-02-01-01.wav'\n",
    "\n",
    "#number of samples / second\n",
    "sampling_rate = 48000\n",
    "\n",
    "#length of frame in samples\n",
    "frame_length = 48000\n",
    "\n",
    "#number of samples used as offset for earch consecutive frame\n",
    "hop_length = 24000\n",
    "\n",
    "#number of mel frequency bins to use\n",
    "bin_number = 40 # also try 80\n",
    "\n",
    "#set the desired number of frames / second here\n",
    "ground_thruth_conversion_const = 1"
   ]
  },
  {
   "cell_type": "code",
   "execution_count": 44,
   "metadata": {},
   "outputs": [],
   "source": [
    "#load audio files\n",
    "\n",
    "y = util.load_audio(file_path, sampling_rate)"
   ]
  },
  {
   "cell_type": "code",
   "execution_count": 45,
   "metadata": {},
   "outputs": [],
   "source": [
    "#compute spectrogram\n",
    "\n",
    "spectrogram = feat.compute_spectrogram(y, frame_length, hop_length, bin_number)"
   ]
  },
  {
   "cell_type": "code",
   "execution_count": null,
   "metadata": {},
   "outputs": [],
   "source": []
  },
  {
   "cell_type": "code",
   "execution_count": null,
   "metadata": {},
   "outputs": [],
   "source": []
  }
 ],
 "metadata": {
  "kernelspec": {
   "display_name": "Python 3",
   "language": "python",
   "name": "python3"
  },
  "language_info": {
   "codemirror_mode": {
    "name": "ipython",
    "version": 3
   },
   "file_extension": ".py",
   "mimetype": "text/x-python",
   "name": "python",
   "nbconvert_exporter": "python",
   "pygments_lexer": "ipython3",
   "version": "3.7.1"
  }
 },
 "nbformat": 4,
 "nbformat_minor": 2
}
